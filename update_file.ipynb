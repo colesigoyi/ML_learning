{
 "cells": [
  {
   "cell_type": "code",
   "execution_count": 57,
   "metadata": {},
   "outputs": [
    {
     "name": "stdout",
     "output_type": "stream",
     "text": [
      "create_time  create_time,\n",
      "\n",
      "update_time  update_time,\n",
      "\n"
     ]
    }
   ],
   "source": [
    "import re\n",
    "\n",
    "# 打开旧文件\n",
    "\n",
    "file_name = \"/Users/taoxuefeng/Desktop/jupyterlab/jupyterlab_python/data/file_update_demo.txt\"\n",
    "f = open(file_name)\n",
    "# 打开新文件\n",
    "\n",
    "# re_str = 'from_unixtime\\(CAST\\(.*? / 1000 AS bigint\\), \\'yyyy-MM-dd HH:mm:ss\\'\\)'\n",
    "# ret = re.match(r'from_unixtime\\(CAST\\(.*? / 1000 AS bigint\\), \\'yyyy-MM-dd HH:mm:ss\\'\\)',f)\n",
    "# print(f.read())\n",
    "# print(ret)\n",
    "# 循环读取旧文件\n",
    "for line in f:\n",
    "    ret = re.match(r'from_unixtime\\(CAST\\(.*? / 1000 AS bigint\\), \\'yyyy-MM-dd HH:mm:ss\\'\\)',line)\n",
    "    if ret:\n",
    "        line = line.replace(\"from_unixtime(CAST(\",\"\").replace(\"/ 1000 AS bigint), 'yyyy-MM-dd HH:mm:ss')\",\"\")\n",
    "        print(line)\n",
    "    # 进行判断\n",
    "#     if \"from_unixtime(CAST(\" in line:\n",
    "#         line = line.replace('from_unixtime(CAST(','')\n",
    "#     if \"/ 1000 AS bigint)\" in line:\n",
    "#         line = line.replace('/ 1000 AS bigint)','')\n",
    "    # 如果不符合就正常的将文件中的内容读取并且输出到新文件中\n",
    "#     f.write(line)\n",
    "\n",
    "# f.close()\n",
    "# f_new.close()\n"
   ]
  },
  {
   "cell_type": "code",
   "execution_count": null,
   "metadata": {},
   "outputs": [],
   "source": []
  }
 ],
 "metadata": {
  "kernelspec": {
   "display_name": "Python 3",
   "language": "python",
   "name": "python3"
  },
  "language_info": {
   "codemirror_mode": {
    "name": "ipython",
    "version": 3
   },
   "file_extension": ".py",
   "mimetype": "text/x-python",
   "name": "python",
   "nbconvert_exporter": "python",
   "pygments_lexer": "ipython3",
   "version": "3.7.4"
  }
 },
 "nbformat": 4,
 "nbformat_minor": 4
}
