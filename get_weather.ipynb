{
 "cells": [
  {
   "cell_type": "code",
   "execution_count": null,
   "metadata": {},
   "outputs": [],
   "source": [
    "\t('101210101','hangzhou','杭州','zhejiang','浙江','China','中国','hangzhou','杭州','30.287459','120.153576'),\n",
    "\t('101210102','xiaoshan','萧山','zhejiang','浙江','China','中国','hangzhou','杭州','30.162932','120.27069'),\n",
    "\t('101210103','tonglu','桐庐','zhejiang','浙江','China','中国','hangzhou','杭州','29.797437','119.685045'),\n",
    "\t('101210104','chunan','淳安','zhejiang','浙江','China','中国','hangzhou','杭州','29.604177','119.044276'),\n",
    "\t('101210105','jiande','建德','zhejiang','浙江','China','中国','hangzhou','杭州','29.472284','119.279089'),\n",
    "\t('101210106','yuhang','余杭','zhejiang','浙江','China','中国','hangzhou','杭州','30.421187','120.301737'),\n",
    "\t('101210107','linan','临安','zhejiang','浙江','China','中国','hangzhou','杭州','30.231153','119.715101'),\n",
    "\t('101210108','fuyang','富阳','zhejiang','浙江','China','中国','hangzhou','杭州','30.049871','119.949869'),\n",
    "\t('101210109','shangcheng','上城','zhejiang','浙江','China','中国','hangzhou','杭州','30.250236','120.171465'),\n",
    "\t('101210110','xiacheng','下城','zhejiang','浙江','China','中国','hangzhou','杭州','30.276271','120.172763'),\n",
    "\t('101210111','jianggan','江干','zhejiang','浙江','China','中国','hangzhou','杭州','30.266603','120.202633'),\n",
    "\t('101210112','gongshu','拱墅','zhejiang','浙江','China','中国','hangzhou','杭州','30.314697','120.150053'),\n",
    "\t('101210113','xihu','西湖','zhejiang','浙江','China','中国','hangzhou','杭州','30.272934','120.147376'),\n",
    "\t('101210114','binjiang','滨江','zhejiang','浙江','China','中国','hangzhou','杭州','30.206615','120.21062'),"
   ]
  },
  {
   "cell_type": "code",
   "execution_count": 32,
   "metadata": {},
   "outputs": [
    {
     "name": "stdout",
     "output_type": "stream",
     "text": [
      "{'weatherinfo': {'city': '杭州', 'cityid': '101210101', 'temp': '24.8', 'WD': '东北风', 'WS': '小于3级', 'SD': '81%', 'AP': '1000.3hPa', 'njd': '暂无实况', 'WSE': '<3', 'time': '17:50', 'sm': '2.1', 'isRadar': '1', 'Radar': 'JC_RADAR_AZ9571_JB'}}\n",
      "24.8 ℃\n"
     ]
    }
   ],
   "source": [
    "import requests\n",
    "\n",
    "weather_info = requests.get(\"http://www.weather.com.cn/data/sk/101210101.html\")\n",
    "weather_info.encoding = 'UTF-8'\n",
    "print(weather_info.json())\n",
    "print(weather_info.json()['weatherinfo']['temp'],'℃')"
   ]
  },
  {
   "cell_type": "code",
   "execution_count": null,
   "metadata": {},
   "outputs": [],
   "source": []
  },
  {
   "cell_type": "code",
   "execution_count": null,
   "metadata": {},
   "outputs": [],
   "source": []
  },
  {
   "cell_type": "code",
   "execution_count": null,
   "metadata": {},
   "outputs": [],
   "source": []
  },
  {
   "cell_type": "code",
   "execution_count": null,
   "metadata": {},
   "outputs": [],
   "source": []
  },
  {
   "cell_type": "code",
   "execution_count": null,
   "metadata": {},
   "outputs": [],
   "source": []
  },
  {
   "cell_type": "code",
   "execution_count": null,
   "metadata": {},
   "outputs": [],
   "source": []
  },
  {
   "cell_type": "code",
   "execution_count": null,
   "metadata": {},
   "outputs": [],
   "source": []
  },
  {
   "cell_type": "code",
   "execution_count": null,
   "metadata": {},
   "outputs": [],
   "source": []
  },
  {
   "cell_type": "code",
   "execution_count": null,
   "metadata": {},
   "outputs": [],
   "source": []
  },
  {
   "cell_type": "code",
   "execution_count": null,
   "metadata": {},
   "outputs": [],
   "source": []
  },
  {
   "cell_type": "code",
   "execution_count": null,
   "metadata": {},
   "outputs": [],
   "source": []
  },
  {
   "cell_type": "code",
   "execution_count": null,
   "metadata": {},
   "outputs": [],
   "source": []
  },
  {
   "cell_type": "code",
   "execution_count": null,
   "metadata": {},
   "outputs": [],
   "source": []
  },
  {
   "cell_type": "code",
   "execution_count": null,
   "metadata": {},
   "outputs": [],
   "source": []
  },
  {
   "cell_type": "code",
   "execution_count": null,
   "metadata": {},
   "outputs": [],
   "source": []
  },
  {
   "cell_type": "code",
   "execution_count": null,
   "metadata": {},
   "outputs": [],
   "source": []
  },
  {
   "cell_type": "code",
   "execution_count": null,
   "metadata": {},
   "outputs": [],
   "source": []
  },
  {
   "cell_type": "code",
   "execution_count": null,
   "metadata": {},
   "outputs": [],
   "source": []
  },
  {
   "cell_type": "code",
   "execution_count": null,
   "metadata": {},
   "outputs": [],
   "source": []
  },
  {
   "cell_type": "code",
   "execution_count": null,
   "metadata": {},
   "outputs": [],
   "source": []
  },
  {
   "cell_type": "code",
   "execution_count": null,
   "metadata": {},
   "outputs": [],
   "source": []
  },
  {
   "cell_type": "code",
   "execution_count": null,
   "metadata": {},
   "outputs": [],
   "source": []
  },
  {
   "cell_type": "code",
   "execution_count": null,
   "metadata": {},
   "outputs": [],
   "source": []
  },
  {
   "cell_type": "code",
   "execution_count": null,
   "metadata": {},
   "outputs": [],
   "source": []
  },
  {
   "cell_type": "code",
   "execution_count": null,
   "metadata": {},
   "outputs": [],
   "source": []
  },
  {
   "cell_type": "code",
   "execution_count": null,
   "metadata": {},
   "outputs": [],
   "source": []
  },
  {
   "cell_type": "code",
   "execution_count": null,
   "metadata": {},
   "outputs": [],
   "source": []
  },
  {
   "cell_type": "code",
   "execution_count": null,
   "metadata": {},
   "outputs": [],
   "source": []
  },
  {
   "cell_type": "code",
   "execution_count": null,
   "metadata": {},
   "outputs": [],
   "source": []
  },
  {
   "cell_type": "code",
   "execution_count": null,
   "metadata": {},
   "outputs": [],
   "source": []
  },
  {
   "cell_type": "code",
   "execution_count": null,
   "metadata": {},
   "outputs": [],
   "source": []
  },
  {
   "cell_type": "code",
   "execution_count": null,
   "metadata": {},
   "outputs": [],
   "source": []
  }
 ],
 "metadata": {
  "kernelspec": {
   "display_name": "Python 3",
   "language": "python",
   "name": "python3"
  },
  "language_info": {
   "codemirror_mode": {
    "name": "ipython",
    "version": 3
   },
   "file_extension": ".py",
   "mimetype": "text/x-python",
   "name": "python",
   "nbconvert_exporter": "python",
   "pygments_lexer": "ipython3",
   "version": "3.7.4"
  }
 },
 "nbformat": 4,
 "nbformat_minor": 4
}
