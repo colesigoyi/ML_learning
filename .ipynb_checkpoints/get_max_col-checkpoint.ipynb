{
 "cells": [
  {
   "cell_type": "markdown",
   "metadata": {},
   "source": [
    "# 自动生成最大集"
   ]
  },
  {
   "cell_type": "code",
   "execution_count": null,
   "metadata": {},
   "outputs": [],
   "source": [
    "#!/usr/bin/env python3\n",
    "# coding: utf-8\n",
    "import xlrd\n",
    "import os\n",
    "import time\n",
    "from datetime import datetime, date, timedelta\n",
    "\n",
    "           \n",
    "rbook = xlrd.open_workbook('20200805彬.xlsx')\n",
    "rbook.sheets()\n",
    "rsheet = rbook.sheet_by_index(0)  # 自有环境取第一个工作簿\n",
    "for row in rsheet.get_rows():\n",
    "    max_list = []\n",
    "    num = 0\n",
    "    date = int(row[0].value) #同步日期\n",
    "    table_name = row[1].value #表名\n",
    "    rys_col_list = row[2].value #rys字段\n",
    "    ali_col_list = row[3].value #ali字段\n",
    "    tx_col_list = row[4].value #tx字段\n",
    "\n",
    "    rys_list = rys_col_list.split(\",\")\n",
    "    ali_list = ali_col_list.split(\",\")\n",
    "    tx_list = tx_col_list.split(\",\")\n",
    "    mlist = filter(None, rys_list + ali_list + tx_list)\n",
    "    \n",
    "    if date == int(time.strftime('%Y%m%d',time.localtime(time.time()))):\n",
    "        \n",
    "        for col_name in mlist:\n",
    "            if col_name not in max_list:\n",
    "                max_list.append(col_name)\n",
    "                \n",
    "        #print(max_list)\n",
    "        \n",
    "        rys_flag = \"\"\n",
    "        ali_flag = \"\"\n",
    "        tx_flag = \"\"\n",
    "\n",
    "        for all_list in (rys_list,ali_list,tx_list):\n",
    "\n",
    "            flag = \"\"\n",
    "            #print(all_list)\n",
    "            for i in range(0,len(max_list)):\n",
    "                for j in range(0, len(all_list)):\n",
    "                    if all_list[j] == max_list[i]:\n",
    "                        flag += '1,'\n",
    "                        break\n",
    "                    if j == len(all_list)-1 :\n",
    "                        flag += '0,'\n",
    "            if all_list == rys_list: \n",
    "                rys_flag = flag.rstrip(\",\")\n",
    "            if all_list == ali_list: \n",
    "                ali_flag = flag.rstrip(\",\")\n",
    "            if all_list == tx_list: \n",
    "                tx_flag = flag.rstrip(\",\")\n",
    "\n",
    "        print('db= table=' + table_name + ' tablecolume='+\",\".join(max_list)+' txflags=' + tx_flag + ' aliflags='+ali_flag + ' rysflags='+rys_flag )\n",
    "        #print(num)\n"
   ]
  }
 ],
 "metadata": {
  "kernelspec": {
   "display_name": "Python 3",
   "language": "python",
   "name": "python3"
  },
  "language_info": {
   "codemirror_mode": {
    "name": "ipython",
    "version": 3
   },
   "file_extension": ".py",
   "mimetype": "text/x-python",
   "name": "python",
   "nbconvert_exporter": "python",
   "pygments_lexer": "ipython3",
   "version": "3.7.4"
  }
 },
 "nbformat": 4,
 "nbformat_minor": 4
}
